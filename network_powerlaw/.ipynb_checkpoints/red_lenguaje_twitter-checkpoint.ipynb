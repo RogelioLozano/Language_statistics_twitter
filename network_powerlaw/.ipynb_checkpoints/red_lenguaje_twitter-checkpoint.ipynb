{
 "cells": [
  {
   "cell_type": "markdown",
   "metadata": {},
   "source": [
    "#### We create a network made of words from 139,000 tweets written in Mexico over 2016. \n",
    "<br>\n",
    "\n",
    "Here we present different measures to characterize the topology of the network. In particular we show that it is a scale free network with a scale parameter of 2.16. \n",
    "<br> \n",
    "\n",
    "We also find optimum values of the number of boxes given a certain size of the box lb using the Compact Box Burning method, which is a variant of the Box covering algorithm, that information is useful to calculate the fractal dimension. Unfortunately given the limitations in the power of computation available by the author (see the trial section), the fractal dimension is not computed. But directions on how to find it are given at the end."
   ]
  },
  {
   "cell_type": "code",
   "execution_count": 7,
   "metadata": {},
   "outputs": [],
   "source": [
    "import numpy as np\n",
    "import matplotlib.pyplot as plt\n",
    "import networkx as nx\n",
    "import pandas as pd\n",
    "import re, string, timeit\n",
    "import os\n",
    "import collections\n",
    "import random\n",
    "from scipy.optimize import curve_fit\n",
    "from copy import deepcopy"
   ]
  },
  {
   "cell_type": "code",
   "execution_count": 46,
   "metadata": {},
   "outputs": [],
   "source": [
    "def parse_my_file(filename):\n",
    "    with open(os.path.join('Mexico','3hourly_csv_files',filename)) as f:\n",
    "        for line in f:\n",
    "            yield re.split(r'\\s+', line.strip(), 3)\n",
    "\n",
    "files = sorted(os.listdir('Mexico/3hourly_csv_files/'))\n",
    "# build the generator \n",
    "my_parsers=[]\n",
    "frames=[]\n",
    "for i in range(len(files)):\n",
    "    my_parsers.append(parse_my_file(files[i]))\n",
    "    next(my_parsers[i])\n",
    "#     build the data frames\n",
    "    frames.append(pd.DataFrame(my_parsers[i],columns = ['Time_int','Latitude','Longitude','Text']))\n",
    "\n",
    "# my_parser = parse_my_file('Mexico/3hourly_csv_files/29.csv')\n",
    "\n",
    "# first element returned is the columns\n",
    "# columns = next(my_parser)\n",
    "# build the data frame\n",
    "# df = pd.DataFrame(my_parser[0], columns=['Time_int','Latitude','Longitude','Text'])"
   ]
  },
  {
   "cell_type": "code",
   "execution_count": 47,
   "metadata": {},
   "outputs": [],
   "source": [
    "df = pd.concat(frames,axis=0,ignore_index=True)"
   ]
  },
  {
   "cell_type": "code",
   "execution_count": 48,
   "metadata": {},
   "outputs": [
    {
     "data": {
      "text/html": [
       "<div>\n",
       "<style scoped>\n",
       "    .dataframe tbody tr th:only-of-type {\n",
       "        vertical-align: middle;\n",
       "    }\n",
       "\n",
       "    .dataframe tbody tr th {\n",
       "        vertical-align: top;\n",
       "    }\n",
       "\n",
       "    .dataframe thead th {\n",
       "        text-align: right;\n",
       "    }\n",
       "</style>\n",
       "<table border=\"1\" class=\"dataframe\">\n",
       "  <thead>\n",
       "    <tr style=\"text-align: right;\">\n",
       "      <th></th>\n",
       "      <th>Time_int</th>\n",
       "      <th>Latitude</th>\n",
       "      <th>Longitude</th>\n",
       "      <th>Text</th>\n",
       "    </tr>\n",
       "  </thead>\n",
       "  <tbody>\n",
       "    <tr>\n",
       "      <th>0</th>\n",
       "      <td>100</td>\n",
       "      <td>19.70215525</td>\n",
       "      <td>-101.18797022</td>\n",
       "      <td>I'm at Morelia in Morelia, Michoac\\xe1n https:...</td>\n",
       "    </tr>\n",
       "    <tr>\n",
       "      <th>1</th>\n",
       "      <td>100</td>\n",
       "      <td>19.30593892</td>\n",
       "      <td>-99.16579485</td>\n",
       "      <td>I'm at Starbucks in Coyoacan, DF https://t.co/...</td>\n",
       "    </tr>\n",
       "    <tr>\n",
       "      <th>2</th>\n",
       "      <td>100</td>\n",
       "      <td>20.50617914</td>\n",
       "      <td>-87.21524477</td>\n",
       "      <td>I'm at Hard Rock Hotel Riviera Maya - @hrhrivi...</td>\n",
       "    </tr>\n",
       "    <tr>\n",
       "      <th>3</th>\n",
       "      <td>100</td>\n",
       "      <td>29.08321389</td>\n",
       "      <td>-110.96830845</td>\n",
       "      <td>I'm at La Milla in Hermosillo, SON https://t.c...</td>\n",
       "    </tr>\n",
       "    <tr>\n",
       "      <th>4</th>\n",
       "      <td>100</td>\n",
       "      <td>19.42068122</td>\n",
       "      <td>-99.17118767</td>\n",
       "      <td>I'm at Smart Fit in M\\xe9xico https://t.co/o6H...</td>\n",
       "    </tr>\n",
       "    <tr>\n",
       "      <th>...</th>\n",
       "      <td>...</td>\n",
       "      <td>...</td>\n",
       "      <td>...</td>\n",
       "      <td>...</td>\n",
       "    </tr>\n",
       "    <tr>\n",
       "      <th>139395</th>\n",
       "      <td>999</td>\n",
       "      <td>19.36767267</td>\n",
       "      <td>-99.26151752</td>\n",
       "      <td>No puedo comer, ah pero un whisky? (at @Camino...</td>\n",
       "    </tr>\n",
       "    <tr>\n",
       "      <th>139396</th>\n",
       "      <td>999</td>\n",
       "      <td>24.01168775</td>\n",
       "      <td>-104.68094029</td>\n",
       "      <td>#ojitospajaritos  \\U0001f493  @ El Chilillo Ta...</td>\n",
       "    </tr>\n",
       "    <tr>\n",
       "      <th>139397</th>\n",
       "      <td>999</td>\n",
       "      <td>19.4277802</td>\n",
       "      <td>-99.1935577</td>\n",
       "      <td>A darle. @ Hotel Presidente Intercontinental M...</td>\n",
       "    </tr>\n",
       "    <tr>\n",
       "      <th>139398</th>\n",
       "      <td>999</td>\n",
       "      <td>19.34899222</td>\n",
       "      <td>-99.18974568</td>\n",
       "      <td>Cita  \\U0001f496  (at @FondueHaus Zermatt in \\...</td>\n",
       "    </tr>\n",
       "    <tr>\n",
       "      <th>139399</th>\n",
       "      <td>999</td>\n",
       "      <td>19.4230099</td>\n",
       "      <td>-99.1529694</td>\n",
       "      <td>En proceso... @ Instituto Escuela de Iniciaci\\...</td>\n",
       "    </tr>\n",
       "  </tbody>\n",
       "</table>\n",
       "<p>139400 rows × 4 columns</p>\n",
       "</div>"
      ],
      "text/plain": [
       "       Time_int     Latitude      Longitude  \\\n",
       "0           100  19.70215525  -101.18797022   \n",
       "1           100  19.30593892   -99.16579485   \n",
       "2           100  20.50617914   -87.21524477   \n",
       "3           100  29.08321389  -110.96830845   \n",
       "4           100  19.42068122   -99.17118767   \n",
       "...         ...          ...            ...   \n",
       "139395      999  19.36767267   -99.26151752   \n",
       "139396      999  24.01168775  -104.68094029   \n",
       "139397      999   19.4277802    -99.1935577   \n",
       "139398      999  19.34899222   -99.18974568   \n",
       "139399      999   19.4230099    -99.1529694   \n",
       "\n",
       "                                                     Text  \n",
       "0       I'm at Morelia in Morelia, Michoac\\xe1n https:...  \n",
       "1       I'm at Starbucks in Coyoacan, DF https://t.co/...  \n",
       "2       I'm at Hard Rock Hotel Riviera Maya - @hrhrivi...  \n",
       "3       I'm at La Milla in Hermosillo, SON https://t.c...  \n",
       "4       I'm at Smart Fit in M\\xe9xico https://t.co/o6H...  \n",
       "...                                                   ...  \n",
       "139395  No puedo comer, ah pero un whisky? (at @Camino...  \n",
       "139396  #ojitospajaritos  \\U0001f493  @ El Chilillo Ta...  \n",
       "139397  A darle. @ Hotel Presidente Intercontinental M...  \n",
       "139398  Cita  \\U0001f496  (at @FondueHaus Zermatt in \\...  \n",
       "139399  En proceso... @ Instituto Escuela de Iniciaci\\...  \n",
       "\n",
       "[139400 rows x 4 columns]"
      ]
     },
     "execution_count": 48,
     "metadata": {},
     "output_type": "execute_result"
    }
   ],
   "source": [
    "df"
   ]
  },
  {
   "cell_type": "code",
   "execution_count": 49,
   "metadata": {},
   "outputs": [
    {
     "data": {
      "text/html": [
       "<div>\n",
       "<style scoped>\n",
       "    .dataframe tbody tr th:only-of-type {\n",
       "        vertical-align: middle;\n",
       "    }\n",
       "\n",
       "    .dataframe tbody tr th {\n",
       "        vertical-align: top;\n",
       "    }\n",
       "\n",
       "    .dataframe thead th {\n",
       "        text-align: right;\n",
       "    }\n",
       "</style>\n",
       "<table border=\"1\" class=\"dataframe\">\n",
       "  <thead>\n",
       "    <tr style=\"text-align: right;\">\n",
       "      <th></th>\n",
       "      <th>Time_int</th>\n",
       "      <th>Latitude</th>\n",
       "      <th>Longitude</th>\n",
       "      <th>Text</th>\n",
       "    </tr>\n",
       "  </thead>\n",
       "  <tbody>\n",
       "    <tr>\n",
       "      <th>67149</th>\n",
       "      <td>2054</td>\n",
       "      <td>25.74315573</td>\n",
       "      <td>-100.31327308</td>\n",
       "      <td>SC Wedding Coach estarxe1 presente MAxd1ANA Mi...</td>\n",
       "    </tr>\n",
       "    <tr>\n",
       "      <th>43999</th>\n",
       "      <td>1652</td>\n",
       "      <td>22.24944157</td>\n",
       "      <td>-97.87490129</td>\n",
       "      <td>Just posted a photo  Vizzio Gym httpstcokZbqZr...</td>\n",
       "    </tr>\n",
       "    <tr>\n",
       "      <th>38666</th>\n",
       "      <td>1573</td>\n",
       "      <td>21.14149714</td>\n",
       "      <td>-86.77240657</td>\n",
       "      <td>Jewels N Drugs play that hustle  U0001f48e  U0...</td>\n",
       "    </tr>\n",
       "    <tr>\n",
       "      <th>138554</th>\n",
       "      <td>987</td>\n",
       "      <td>20.525485</td>\n",
       "      <td>-103.301538</td>\n",
       "      <td>Im at Aeropuerto Internacional de Guadalajara ...</td>\n",
       "    </tr>\n",
       "    <tr>\n",
       "      <th>97494</th>\n",
       "      <td>350</td>\n",
       "      <td>20.2167</td>\n",
       "      <td>-87.4667</td>\n",
       "      <td>Nobody really likes us except for us  U0001f37...</td>\n",
       "    </tr>\n",
       "    <tr>\n",
       "      <th>...</th>\n",
       "      <td>...</td>\n",
       "      <td>...</td>\n",
       "      <td>...</td>\n",
       "      <td>...</td>\n",
       "    </tr>\n",
       "    <tr>\n",
       "      <th>76600</th>\n",
       "      <td>2356</td>\n",
       "      <td>21.1489773</td>\n",
       "      <td>-101.6188063</td>\n",
       "      <td>HBDJosCD9  21 velitas 21 deseos JosDice u2764 ...</td>\n",
       "    </tr>\n",
       "    <tr>\n",
       "      <th>79670</th>\n",
       "      <td>2427</td>\n",
       "      <td>18.67205</td>\n",
       "      <td>-97.67066</td>\n",
       "      <td>I stopped fighting my inner demons Now they ar...</td>\n",
       "    </tr>\n",
       "    <tr>\n",
       "      <th>60592</th>\n",
       "      <td>1944</td>\n",
       "      <td>21.1833</td>\n",
       "      <td>-86.8167</td>\n",
       "      <td>Con mi hermanita  Puerto Juxe1rez Quintana Roo...</td>\n",
       "    </tr>\n",
       "    <tr>\n",
       "      <th>51844</th>\n",
       "      <td>1804</td>\n",
       "      <td>19.30731312</td>\n",
       "      <td>-99.14287768</td>\n",
       "      <td>Go to Work   Tren Ligero El Vergel in Mexico C...</td>\n",
       "    </tr>\n",
       "    <tr>\n",
       "      <th>114051</th>\n",
       "      <td>593</td>\n",
       "      <td>20.63113832</td>\n",
       "      <td>-87.06936536</td>\n",
       "      <td>Im at McCarthys Irish Pub in Playa Del Carmen ...</td>\n",
       "    </tr>\n",
       "  </tbody>\n",
       "</table>\n",
       "<p>697 rows × 4 columns</p>\n",
       "</div>"
      ],
      "text/plain": [
       "       Time_int     Latitude      Longitude  \\\n",
       "67149      2054  25.74315573  -100.31327308   \n",
       "43999      1652  22.24944157   -97.87490129   \n",
       "38666      1573  21.14149714   -86.77240657   \n",
       "138554      987    20.525485    -103.301538   \n",
       "97494       350      20.2167       -87.4667   \n",
       "...         ...          ...            ...   \n",
       "76600      2356   21.1489773   -101.6188063   \n",
       "79670      2427     18.67205      -97.67066   \n",
       "60592      1944      21.1833       -86.8167   \n",
       "51844      1804  19.30731312   -99.14287768   \n",
       "114051      593  20.63113832   -87.06936536   \n",
       "\n",
       "                                                     Text  \n",
       "67149   SC Wedding Coach estarxe1 presente MAxd1ANA Mi...  \n",
       "43999   Just posted a photo  Vizzio Gym httpstcokZbqZr...  \n",
       "38666   Jewels N Drugs play that hustle  U0001f48e  U0...  \n",
       "138554  Im at Aeropuerto Internacional de Guadalajara ...  \n",
       "97494   Nobody really likes us except for us  U0001f37...  \n",
       "...                                                   ...  \n",
       "76600   HBDJosCD9  21 velitas 21 deseos JosDice u2764 ...  \n",
       "79670   I stopped fighting my inner demons Now they ar...  \n",
       "60592   Con mi hermanita  Puerto Juxe1rez Quintana Roo...  \n",
       "51844   Go to Work   Tren Ligero El Vergel in Mexico C...  \n",
       "114051  Im at McCarthys Irish Pub in Playa Del Carmen ...  \n",
       "\n",
       "[697 rows x 4 columns]"
      ]
     },
     "execution_count": 49,
     "metadata": {},
     "output_type": "execute_result"
    }
   ],
   "source": [
    "regex = re.compile('[%s]' % re.escape(string.punctuation))\n",
    "df.Text = df.Text.map(lambda raw: regex.sub('', raw))\n",
    "df = df.sample(frac=0.005)\n",
    "df"
   ]
  },
  {
   "cell_type": "code",
   "execution_count": 50,
   "metadata": {},
   "outputs": [],
   "source": [
    "tweets = [tw for tw in df.Text]"
   ]
  },
  {
   "cell_type": "code",
   "execution_count": 51,
   "metadata": {},
   "outputs": [],
   "source": [
    "palabras = []\n",
    "for tweet in tweets:\n",
    "    temp = tweet.split(sep=\" \")\n",
    "    for palabra in temp:\n",
    "        if palabra != \"\":\n",
    "            palabras.append(palabra)"
   ]
  },
  {
   "cell_type": "code",
   "execution_count": 52,
   "metadata": {},
   "outputs": [],
   "source": [
    "red_lenguaje_tw = nx.Graph()"
   ]
  },
  {
   "cell_type": "code",
   "execution_count": 53,
   "metadata": {},
   "outputs": [],
   "source": [
    "red_lenguaje_tw.add_nodes_from(palabras)"
   ]
  },
  {
   "cell_type": "code",
   "execution_count": 54,
   "metadata": {},
   "outputs": [],
   "source": [
    "edges = []\n",
    "for tweet in tweets:\n",
    "    palabras = tweet.split(sep=\" \")\n",
    "    for i in range(len(palabras)):\n",
    "        if i ==0:\n",
    "            try:\n",
    "                edges.append( (palabras[i],palabras[i+1]) )\n",
    "                edges.append( (palabras[i],palabras[i+2]) )\n",
    "            except IndexError:\n",
    "                pass\n",
    "        elif i == 1:\n",
    "            try:\n",
    "                edges.append( (palabras[i],palabras[i+1]) )\n",
    "                edges.append( (palabras[i],palabras[i+2]) )\n",
    "            except IndexError:\n",
    "                pass\n",
    "        elif i == len(palabras) - 2:\n",
    "            try:\n",
    "                edges.append( (palabras[i],palabras[i+1]) )\n",
    "            except IndexError:\n",
    "                pass\n",
    "        else:\n",
    "            try:\n",
    "                edges.append( (palabras[i],palabras[i+1]) )\n",
    "                edges.append( (palabras[i],palabras[i+2]) )\n",
    "            except IndexError:\n",
    "                pass"
   ]
  },
  {
   "cell_type": "code",
   "execution_count": 55,
   "metadata": {},
   "outputs": [],
   "source": [
    "red_lenguaje_tw.add_edges_from(edges)"
   ]
  },
  {
   "cell_type": "code",
   "execution_count": 56,
   "metadata": {},
   "outputs": [
    {
     "name": "stdout",
     "output_type": "stream",
     "text": [
      "Grado promedio de la red: 5.90078065978343\n"
     ]
    }
   ],
   "source": [
    "print(\"Grado promedio de la red:\",red_lenguaje_tw.number_of_edges()*2/red_lenguaje_tw.number_of_nodes())"
   ]
  },
  {
   "cell_type": "code",
   "execution_count": 57,
   "metadata": {},
   "outputs": [],
   "source": [
    "tw_components = nx.connected_component_subgraphs(red_lenguaje_tw)\n",
    "componente_max = list(tw_components)[0]"
   ]
  },
  {
   "cell_type": "code",
   "execution_count": 58,
   "metadata": {},
   "outputs": [
    {
     "name": "stdout",
     "output_type": "stream",
     "text": [
      "N_max/N = 0.9924452279022916\n"
     ]
    }
   ],
   "source": [
    "print(\"N_max/N =\",componente_max.number_of_nodes()/red_lenguaje_tw.number_of_nodes())"
   ]
  },
  {
   "cell_type": "markdown",
   "metadata": {},
   "source": [
    "### BEGIN TRIAL"
   ]
  },
  {
   "cell_type": "markdown",
   "metadata": {},
   "source": [
    "#### A trial with 0.5% of the total data (3808 nodes and 10944 edges) takes 132.29 seconds to compute the diameter and average distance, so assuming that the algorithm that performs nx.diamater and nx.average_shorterst path_length has a computational complexity of the order of O(E*V) where E number of edges and V number of vertices and considering that 0.5% take t = 132.3 seconds, then the number of hours it would take to compute with all the data is 200*t/3600 = 7.35 hrs being optimistic. Besides, CBB is not the most efficient algorithm out there and it will probably take more time than those of networkx. I don't want my computer to work such amount of time so I'll use just 0.5% of the total data.\n"
   ]
  },
  {
   "cell_type": "code",
   "execution_count": 42,
   "metadata": {},
   "outputs": [
    {
     "name": "stdout",
     "output_type": "stream",
     "text": [
      "Diametro: 10\n",
      "Distancia promedio: 3.116335620142462\n",
      "132.29211378097534\n"
     ]
    }
   ],
   "source": [
    "current_time = time.time()\n",
    "print(\"Diametro:\",nx.diameter(componente_max))\n",
    "print(\"Distancia promedio:\",nx.average_shortest_path_length(componente_max))\n",
    "print(time.time()-current_time)"
   ]
  },
  {
   "cell_type": "markdown",
   "metadata": {},
   "source": [
    "### END OF TRIAL"
   ]
  },
  {
   "cell_type": "code",
   "execution_count": 61,
   "metadata": {
    "scrolled": false
   },
   "outputs": [
    {
     "data": {
      "image/png": "[encoded data removed]",
      "text/plain": [
       "<Figure size 1332x756 with 1 Axes>"
      ]
     },
     "metadata": {},
     "output_type": "display_data"
    }
   ],
   "source": [
    "def plot_degree_dist(G):\n",
    "    degrees = [G.degree(n) for n in G.nodes()]\n",
    "    degrees = np.array(degrees)\n",
    "    ####################  \n",
    "    ##################\n",
    "    counts,bin_edges = np.histogram(degrees,500)\n",
    "    bin_centres = (bin_edges[:-1] + bin_edges[1:])/2.\n",
    "    d = 0\n",
    "    for dg in counts:\n",
    "        d += dg\n",
    "    plt.plot(bin_centres,counts/d,marker='o',linestyle=\"\")\n",
    "    plt.xscale('log')\n",
    "    plt.yscale('log')\n",
    "    plt.xlabel('k',fontsize=20)\n",
    "    plt.ylabel('$p_k$',fontsize=20)\n",
    "    fig = plt.gcf()\n",
    "    fig.set_size_inches(18.5, 10.5)\n",
    "#     plt.grid()\n",
    "    plt.title(\"Degree distribution of words' network of tweets\",fontsize=20)\n",
    "    #     plt.savefig('ajustered.png')\n",
    "\n",
    "plot_degree_dist(red_lenguaje_tw)"
   ]
  },
  {
   "cell_type": "code",
   "execution_count": 64,
   "metadata": {},
   "outputs": [],
   "source": [
    "degrees = []\n",
    "\n",
    "for palabra in red_lenguaje_tw.nodes():\n",
    "    degrees.append(red_lenguaje_tw.degree(palabra))\n",
    "\n",
    "degrees = np.array(degrees)"
   ]
  },
  {
   "cell_type": "code",
   "execution_count": 65,
   "metadata": {},
   "outputs": [
    {
     "data": {
      "image/png": "[encoded data removed]",
      "text/plain": [
       "<Figure size 1332x756 with 1 Axes>"
      ]
     },
     "metadata": {},
     "output_type": "display_data"
    }
   ],
   "source": [
    "# Estimaci'on del para'metro de escala \n",
    "kmin = 10\n",
    "degrees = degrees[degrees>=kmin]\n",
    "α = 1 + len(degrees) * (np.sum(np.log(degrees/(kmin-0.5))))**(-1)\n",
    "sorted_degrees = np.sort(degrees)\n",
    "plt.step(np.concatenate([sorted_degrees[::-1], sorted_degrees[[0]]]),\n",
    "         np.arange(sorted_degrees.size+1)/(1+len(sorted_degrees)))\n",
    "plt.plot(degrees,(degrees/kmin)**(-α+1)) \n",
    "plt.title(\"Degree complementary CDF\",fontsize=25)\n",
    "plt.xscale('log')\n",
    "plt.yscale('log')\n",
    "plt.grid()\n",
    "plt.xlabel('k',fontsize=20)\n",
    "plt.ylabel('$CP_k$',fontsize=20)\n",
    "fig = plt.gcf()\n",
    "fig.set_size_inches(18.5, 10.5)  "
   ]
  },
  {
   "cell_type": "code",
   "execution_count": 66,
   "metadata": {},
   "outputs": [
    {
     "name": "stdout",
     "output_type": "stream",
     "text": [
      "Scale parameter =  2.3466662468433066\n"
     ]
    }
   ],
   "source": [
    "print(\"Scale parameter = \",α)"
   ]
  },
  {
   "cell_type": "markdown",
   "metadata": {},
   "source": [
    "#### The scale parameter found is typical of real networks, 1<$\\alpha$ < 3 so that the first two moments of the distribution are finite. "
   ]
  },
  {
   "cell_type": "markdown",
   "metadata": {},
   "source": [
    "## Compact Box Burning algorithm CBB.\n",
    "\n",
    "#### One way of creating boxes to compute the fractal dimension of a complex network is based on breadth-first algorithms. Here we use the Compact Box Burning algorithm.  \n",
    "\n",
    "#### Reference: https://arxiv.org/pdf/cond-mat/0701216.pdf\n",
    "\n",
    "#### The algorithm goes as follows:\n",
    "\n",
    "* (i) Construct the set C of all yet uncovered nodes.\n",
    "* (ii) Choose a random node p from the candidate set C and remove it from C.\n",
    "* (iii) Remove from C all nodes i whose distance from p is $l_{pi}$ >= $l_B$ since by definition they will not belong to the same box.\n",
    "* (iv) Repeat steps (ii) and (iii) until the candidate is empty\n",
    "\n",
    "The set of choes nodes p forms a compact box. We then repeat the above procedure until the entire network is covered.\n",
    "\n",
    "#### We define as a compact box a box that includes the maximum number of possible nodes. \n",
    "\n",
    "#### $l_B$ is the size of each box. The minimum number of boxes needed to cover the entire network is denoted by $N_B$.\n",
    "\n",
    "#### The goal of box-covering algorithms is to locate the optimum solution, i.e. to identify the minimum number $N_B(l_B)$ for any given box size $l_B$\n"
   ]
  },
  {
   "cell_type": "code",
   "execution_count": 67,
   "metadata": {},
   "outputs": [],
   "source": [
    "def CBB(G,lb): \n",
    "\t\"\"\"\n",
    "    Asssumes G a Graph type object from the class graph of the library networkx. \n",
    "    lb an int > 1\n",
    "\tIt returns a dictionary with {box_id:subgraph_generated_by_the_nodes_in_this_box}\n",
    "\tThe box_id is the center of the box.\n",
    "\tThe subgraphs may be disconnected.\n",
    "\t\"\"\"\t\n",
    "\tuncovered_nodes=G.nodes()\n",
    "\tuncovered_nodes = set(uncovered_nodes)\n",
    "\tcovered_nodes = set([])\n",
    "\tboxes_subgraphs = {}\n",
    "\tadj = dict(G.adj)\n",
    "\twhile uncovered_nodes:\n",
    "\t\tcenter = random.choice(list(uncovered_nodes))\n",
    "\t\tnodes_visited = {center:0}\n",
    "\t\tsearch_queue = [center]\n",
    "\t\td = 1\n",
    "\t\twhile len(search_queue) > 0 and d <= lb-1:\n",
    "\t\t\tnext_depth = []\n",
    "\t\t\textend = next_depth.extend\n",
    "\t\t\tfor n in search_queue:\n",
    "\t\t\t\tl = [ i for i in adj[n].keys() if i not in nodes_visited ]\n",
    "\t\t\t\textend(l)\n",
    "\t\t\t\tfor j in l: \n",
    "\t\t\t\t\tnodes_visited[j] = d\n",
    "\t\t\tsearch_queue = next_depth\n",
    "\t\t\td += 1\n",
    "\t\tnew_covered_nodes = set(nodes_visited.keys())\n",
    "\t\tnew_covered_nodes = new_covered_nodes.difference(covered_nodes)\n",
    "\t\tnodes_checked_as_centers = set([center])\n",
    "\t\twhile len(nodes_checked_as_centers) < len(new_covered_nodes):\n",
    "\t\t\tsecondary_center = random.choice(list(new_covered_nodes.difference(nodes_checked_as_centers)))\n",
    "\t\t\tnodes_checked_as_centers.add(secondary_center)\n",
    "\t\t\tnodes_visited = {secondary_center:0}\n",
    "\t\t\tsearch_queue = [secondary_center]\n",
    "\t\t\td = 1\n",
    "\t\t\twhile len(search_queue) > 0 and d <= lb-1:\n",
    "\t\t\t\tnext_depth = []\n",
    "\t\t\t\textend = next_depth.extend\n",
    "\t\t\t\tfor n in search_queue:\n",
    "\t\t\t\t\tl = [ i for i in adj[n].keys() if i not in nodes_visited ] # faster than has_key? yep\n",
    "\t\t\t\t\textend(l)\n",
    "\t\t\t\t\tfor j in l:\n",
    "\t\t\t\t\t\tnodes_visited[j] = d\n",
    "\t\t\t\tsearch_queue = next_depth\n",
    "\t\t\t\td += 1\n",
    "\t\t\tnodes_covered_by_secondary = set(nodes_visited.keys())\n",
    "\t\t\tnew_covered_nodes = new_covered_nodes.intersection(nodes_covered_by_secondary)\n",
    "\t\tboxes_subgraphs[center] = nx.subgraph(G,list(new_covered_nodes))\n",
    "\t\tuncovered_nodes = uncovered_nodes.difference(new_covered_nodes)\n",
    "\t\tcovered_nodes = covered_nodes.union(new_covered_nodes)\n",
    "\treturn boxes_subgraphs"
   ]
  },
  {
   "cell_type": "code",
   "execution_count": null,
   "metadata": {},
   "outputs": [],
   "source": [
    "Nbs_values = {'nb_2':[],'nb_3':[],'nb_4':[],'nb_5':[]}\n",
    "\n",
    "for n in [2,3,4,5]:\n",
    "    for i in range(50):\n",
    "        Nbs_values['nb_{}'.format(n)].append(len(CBB(red_lenguaje_tw,n)))"
   ]
  },
  {
   "cell_type": "code",
   "execution_count": 77,
   "metadata": {},
   "outputs": [],
   "source": [
    "NB_2 = np.array(Nbs['nb_2'])\n",
    "NB_3 = np.array(Nbs['nb_3'])\n",
    "NB_4 = np.array(Nbs['nb_4'])\n",
    "NB_5 = np.array(Nbs['nb_5'])"
   ]
  },
  {
   "cell_type": "code",
   "execution_count": 96,
   "metadata": {},
   "outputs": [
    {
     "data": {
      "text/plain": [
       "Text(0.5, 0, '$N_B$')"
      ]
     },
     "execution_count": 96,
     "metadata": {},
     "output_type": "execute_result"
    },
    {
     "data": {
      "image/png": "[encoded data removed]",
      "text/plain": [
       "<Figure size 460.8x403.2 with 1 Axes>"
      ]
     },
     "metadata": {},
     "output_type": "display_data"
    }
   ],
   "source": [
    "plt.hist(NB_2,density=True)\n",
    "plt.hist(NB_3,density=True)\n",
    "plt.ylabel(\"P($N_B$)\")\n",
    "plt.xlabel(\"$N_B$\")"
   ]
  },
  {
   "cell_type": "code",
   "execution_count": 97,
   "metadata": {},
   "outputs": [
    {
     "data": {
      "text/plain": [
       "Text(0.5, 0, '$N_B$')"
      ]
     },
     "execution_count": 97,
     "metadata": {},
     "output_type": "execute_result"
    },
    {
     "data": {
      "image/png": "[encoded data removed]",
      "text/plain": [
       "<Figure size 460.8x403.2 with 1 Axes>"
      ]
     },
     "metadata": {},
     "output_type": "display_data"
    }
   ],
   "source": [
    "plt.hist(NB_3,density=True)\n",
    "plt.hist(NB_4,density=True)\n",
    "plt.hist(NB_5,density=True,bins=5)\n",
    "plt.ylabel(\"P($N_B$)\")\n",
    "plt.xlabel(\"$N_B$\")"
   ]
  },
  {
   "cell_type": "markdown",
   "metadata": {},
   "source": [
    "#### To compare all of them we center the data around  < $N_B$($l_B$) > with $l_B$ = 2,3,4,5"
   ]
  },
  {
   "cell_type": "code",
   "execution_count": 124,
   "metadata": {},
   "outputs": [],
   "source": [
    "NB_means = []\n",
    "for n in range(2,6):\n",
    "    NB_means.append( np.mean(Nbs['nb_{}'.format(n)]) )"
   ]
  },
  {
   "cell_type": "code",
   "execution_count": 126,
   "metadata": {},
   "outputs": [
    {
     "data": {
      "text/plain": [
       "Text(0.5, 0, '$N_B$')"
      ]
     },
     "execution_count": 126,
     "metadata": {},
     "output_type": "execute_result"
    },
    {
     "data": {
      "image/png": "[encoded data removed]",
      "text/plain": [
       "<Figure size 460.8x403.2 with 1 Axes>"
      ]
     },
     "metadata": {},
     "output_type": "display_data"
    }
   ],
   "source": [
    "counts,bin_edges = np.histogram(NB_2)\n",
    "counts2,bin_edges2 = np.histogram(NB_3)\n",
    "counts3,bin_edges3 = np.histogram(NB_4)\n",
    "counts4,bin_edges4 = np.histogram(NB_5,bins=5)\n",
    "\n",
    "bin_centres = (bin_edges[:-1] + bin_edges[1:])/2.\n",
    "bin_centres2 = (bin_edges2[:-1] + bin_edges2[1:])/2.\n",
    "bin_centres3 = (bin_edges3[:-1] + bin_edges3[1:])/2.\n",
    "bin_centres4 = (bin_edges4[:-1] + bin_edges4[1:])/2.\n",
    "\n",
    "d = 0\n",
    "d2 = 0\n",
    "d3 = 0\n",
    "d4 = 0\n",
    "for dg,dg2,dg3,dg4 in zip(counts,counts2,counts3,counts4):\n",
    "    d += dg\n",
    "    d2 += dg2\n",
    "    d3 += dg3\n",
    "    d4 += dg4\n",
    "plt.plot(bin_centres/NB_means[0],counts/d,marker='o',label=\"lb=2\")\n",
    "plt.plot(bin_centres2/NB_means[1],counts2/d,marker='o',label=\"lb=3\")\n",
    "plt.plot(bin_centres3/NB_means[2],counts3/d,marker='o',label=\"lb=4\")\n",
    "plt.plot(bin_centres4/NB_means[3],counts4/d,marker='o',label=\"lb=5\")\n",
    "plt.legend()\n",
    "plt.ylabel(\"P($N_B$)\")\n",
    "plt.xlabel(\"$N_B$\")"
   ]
  },
  {
   "cell_type": "markdown",
   "metadata": {},
   "source": [
    "### To find the fractal dimension of the complex network of words from twitter:\n",
    "* Repeat the procedure above using a greater range of box sizes e.g. range(2,30)\n",
    "* Plot $N_B(l_B)$ with $l_B$ = 2,3,4,...,30 vs range(2,30)\n",
    "\n",
    "* The resulting figure should have the form of a power law, with the scale parameter being the fractal dimension of the network $N_B(l_B) \\propto l_B^{-d_B}$"
   ]
  }
 ],
 "metadata": {
  "kernelspec": {
   "display_name": "Python 3.7.5 64-bit ('toughenv': conda)",
   "language": "python",
   "name": "python37564bittoughenvconda10c22ec9b2ab438aab78bd3ff93ae9c0"
  },
  "language_info": {
   "codemirror_mode": {
    "name": "ipython",
    "version": 3
   },
   "file_extension": ".py",
   "mimetype": "text/x-python",
   "name": "python",
   "nbconvert_exporter": "python",
   "pygments_lexer": "ipython3",
   "version": "3.7.5"
  }
 },
 "nbformat": 4,
 "nbformat_minor": 2
}
