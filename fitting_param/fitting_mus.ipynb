{
 "cells": [
  {
   "cell_type": "code",
   "execution_count": 1,
   "metadata": {},
   "outputs": [],
   "source": [
    "import numpy as np\n",
    "import matplotlib.pyplot as plt\n",
    "import scipy.stats\n",
    "from scipy.optimize import curve_fit\n",
    "from copy import deepcopy\n",
    "import os\n",
    "import pandas as pd\n",
    "import seaborn as sns\n",
    "sns.set(style='ticks')"
   ]
  },
  {
   "cell_type": "code",
   "execution_count": 2,
   "metadata": {},
   "outputs": [],
   "source": [
    "prepath = '/home/emmanuel/archivos_paragrafficar_SERVICIOSOCIAL/Buffers_Datosyprogramas/Datos_todoslosPaises/'"
   ]
  },
  {
   "cell_type": "code",
   "execution_count": 3,
   "metadata": {},
   "outputs": [],
   "source": [
    "def EvalnormCdf(x,mu,sigma):\n",
    "    return scipy.stats.norm.cdf(np.log10(x),loc=mu,scale=sigma)\n",
    "\n",
    "def ajuste(data_fit,funcion):\n",
    "    X = data_fit[:,0]\n",
    "    Y = data_fit[:,1]\n",
    "    param_model, pcov1 = curve_fit(funcion,X,Y)\n",
    "    return param_model\n",
    "\n",
    "def get_parametros(country,level,ngrams,timeint,totalgrams):\n",
    "    path = prepath+'{}/Level_{}/results_{}grams/{}hour_{}grams_RD.txt'.format(country,level,totalgrams,timeint,ngrams)\n",
    "    data = np.loadtxt(path)\n",
    "    parametros = ajuste(data,EvalnormCdf)\n",
    "    return parametros"
   ]
  },
  {
   "cell_type": "markdown",
   "metadata": {},
   "source": [
    "### LO DE ABAJO GUARDA LOS MU Y SIGMAS "
   ]
  },
  {
   "cell_type": "code",
   "execution_count": 28,
   "metadata": {},
   "outputs": [],
   "source": [
    "NGRAMS = [1,2,3,4,5]\n",
    "TIME = [3,6,12,24,48,96]\n",
    "countries = [\"Mexico\", \"United_Kingdom\",\"Spain\",\"Argentina\"]\n",
    "totalgrams = 1000\n",
    "\n",
    "pre = 'parametros_valores/'\n",
    "\n",
    "for country in countries:\n",
    "    # <--------------___!!!!!!!!\n",
    "    #codigo auxiliar <--------------------Esto de abajo se tiene que modificar si aumentas paises \n",
    "    dist4country = { \"Mexico\":np.arange(0,11), \"United_Kingdom\":np.arange(0,10),\"Spain\":np.arange(0,9),\"India\":np.arange(0,11),'Argentina':np.arange(0,11)}\n",
    "    base=2\n",
    "    distancias = np.power(base, dist4country[country]).astype(float)*3*1000\n",
    "    SPATIAL = dist4country[country]\n",
    "\n",
    "    #ngrams variation\n",
    "    \n",
    "    #geographical scale fixed\n",
    "\n",
    "    for level in SPATIAL:\n",
    "\n",
    "        scheme = dict( zip( ['ti='+str(i) for i in TIME], [ [] for k in range(len(TIME)) ]) )\n",
    "        muandsigma = {\"mu\":scheme, \"sigma\":deepcopy(scheme)}\n",
    "        # <--------------___!!!!!!!!\n",
    "        #Lo de abajo se debe aumentar acorde al numero de paises que se tengan entonces es el num de repeticiones en la lista de muandsigma\n",
    "        Parametros_ti = dict([(count,elem) for count,elem in zip(countries,[muandsigma,muandsigma,muandsigma,muandsigma])])\n",
    "\n",
    "        for timeint in TIME:\n",
    "            for ngram in NGRAMS:\n",
    "                try:\n",
    "                    mu,sigma = get_parametros(country,level,ngram,timeint,totalgrams)\n",
    "                except RuntimeError:\n",
    "                    mu,sigma = np.nan,np.nan\n",
    "                Parametros_ti[country]['mu']['ti={}'.format(timeint)].append(mu)\n",
    "                Parametros_ti[country]['sigma']['ti={}'.format(timeint)].append(sigma)\n",
    "\n",
    "\n",
    "        df_mu = pd.DataFrame(Parametros_ti[country]['mu'],index=NGRAMS)\n",
    "        df_sigma = pd.DataFrame(Parametros_ti[country]['sigma'],index=NGRAMS)\n",
    "        \n",
    "        savingpathmu = os.path.join(pre,\"{}ngrams\".format(totalgrams),country,'display_ngrams','mu_vs_temporal')\n",
    "        savingpathsigma = os.path.join(pre,'{}ngrams'.format(totalgrams),country,'display_ngrams','sigma_vs_temporal')\n",
    "        \n",
    "        if not os.path.exists(savingpathmu) or not os.path.exists(savingpathsigma):\n",
    "            os.makedirs(savingpathmu)\n",
    "            os.makedirs(savingpathsigma)\n",
    "        df_mu.to_csv(os.path.join(savingpathmu,'{}Km'.format(distancias[level]/1000)))\n",
    "        df_sigma.to_csv(os.path.join(savingpathsigma,'{}Km'.format(distancias[level]/1000)))\n",
    "        \n",
    "        \n",
    "     # time interval fixed\n",
    "    \n",
    "    for timeint in TIME:\n",
    "        tmpmu = dict( zip( dist4country[country], [[] for i in dist4country[country]] ) )\n",
    "        tmpsigma = deepcopy(tmpmu)\n",
    "        #MODIFICAR LO ABAJO SI AUEMNTO PAISES DEBO AGREGALOS A Parametros_sc  l<--------------___!!!!!!!!\n",
    "        Parametros_sc = {\"Mexico\":{'mu':tmpmu ,'sigma':tmpsigma },  \"United_Kingdom\":{'mu':tmpmu ,'sigma':tmpsigma },'Spain':{'mu':tmpmu,'sigma':tmpsigma},'India':{'mu':tmpmu ,'sigma':tmpsigma },'Argentina':{'mu':tmpmu ,'sigma':tmpsigma}}\n",
    "        for level in SPATIAL:\n",
    "            for ngram in NGRAMS:\n",
    "                try:\n",
    "                    mu,sigma=get_parametros(country,level,ngram,timeint,totalgrams)\n",
    "                except RuntimeError:\n",
    "                    mu,sigma = np.nan,np.nan\n",
    "                Parametros_sc[country]['mu'][level].append(mu)\n",
    "                Parametros_sc[country]['sigma'][level].append(sigma)\n",
    "            \n",
    "        df_mu = pd.DataFrame({ str(distancia): Parametros_sc[country][\"mu\"][i] for(distancia,i) in zip( distancias,range(len(distancias))) },index=NGRAMS)\n",
    "        df_sigma = pd.DataFrame({ str(distancia): Parametros_sc[country][\"sigma\"][i] for(distancia,i) in zip( distancias,range(len(distancias))) },index=NGRAMS)\n",
    "        \n",
    "        savingpathmu = os.path.join(pre,\"{}ngrams\".format(totalgrams),country,'display_ngrams','mu_vs_spatial')\n",
    "        savingpathsigma = os.path.join(pre,'{}ngrams'.format(totalgrams),country,'display_ngrams','sigma_vs_spatial')\n",
    "        \n",
    "        if not os.path.exists(savingpathmu) or not os.path.exists(savingpathsigma):\n",
    "            os.makedirs(savingpathmu)\n",
    "            os.makedirs(savingpathsigma)\n",
    "        df_mu.to_csv(os.path.join(savingpathmu,'{}hrs'.format(timeint)))\n",
    "        df_sigma.to_csv(os.path.join(savingpathsigma,'{}hrs'.format(timeint)))\n",
    "        "
   ]
  },
  {
   "cell_type": "markdown",
   "metadata": {},
   "source": [
    "### Functions to plot and get data"
   ]
  },
  {
   "cell_type": "code",
   "execution_count": 4,
   "metadata": {},
   "outputs": [],
   "source": [
    "from sklearn import linear_model\n",
    "from sklearn.metrics import mean_squared_error,r2_score"
   ]
  },
  {
   "cell_type": "code",
   "execution_count": 5,
   "metadata": {},
   "outputs": [],
   "source": [
    "def mu_sigma_ngramsvar(vscale,value,country,level,ngrams,timeint,parametros,marker='o',ax=None):\n",
    "    \"\"\"\n",
    "    Input:\n",
    "    vscale: str, 'spatial' or 'time'\n",
    "    value: str, 'mu' or 'sigma'\n",
    "    Parametros expect a pandas dataframe object.\n",
    "    \"\"\"\n",
    "    #codigo auxiliar de distancia \n",
    "    # MODIFICAR SI AGREGAS MAS PAISES  <--------------___!!!!!!!!\n",
    "    dist4country = { \"Mexico\":np.arange(0,11), \"United_Kingdom\":np.arange(0,10),\"Spain\":np.arange(0,9),\"India\":np.arange(0,11),'Argentina':np.arange(0,11)}\n",
    "    base=2\n",
    "    distancias = np.power(base, dist4country[country]).astype(float)*3*1000\n",
    "        \n",
    "    NGRAMS = [1,2,3,4,5]\n",
    "    TIME = [3,6,12,24,48,96]\n",
    "    \n",
    "    if vscale == 'time':\n",
    "        #scale fixed (mu vs time interval)\n",
    "        \n",
    "        ax.plot(TIME,parametros.loc[ngrams],'o',marker=marker,label='{},{}km,ng={}'.format(country,distancias[level]/1000,ngrams))\n",
    "        ax.set_xlabel('Temporal scale (hrs)',fontsize=20)\n",
    "        if value == 'mu':\n",
    "            ax.set_ylabel('$\\mu$',fontsize=20)\n",
    "        else:\n",
    "            ax.set_ylabel('$\\sigma$',fontsize=20)\n",
    "            \n",
    "    else:\n",
    "        #time interval fixed (mu vs spatial scale)\n",
    "\n",
    "        spatial_var = distancias\n",
    "        ax.plot(spatial_var,parametros.loc[ngrams],'o',marker=marker,label='{},$\\delta t$={},ng={}'.format(country,timeint,ngrams))\n",
    "        ax.set_xlabel('Geographical scale (m)',fontsize=20)\n",
    "        if value == 'mu':\n",
    "            ax.set_ylabel('$\\mu$',fontsize=20)\n",
    "        else:\n",
    "            ax.set_ylabel('$\\sigma$',fontsize=20)"
   ]
  },
  {
   "cell_type": "code",
   "execution_count": 6,
   "metadata": {},
   "outputs": [],
   "source": [
    "def plot_paramet(vscale,param,country,ngram,timeint,ax,marker='o',level=None):\n",
    "    \"\"\"param: \"mu\" or \"sigma\" (string)\n",
    "    vscale: versus what scale: \"spatial\", \"temporal\" (string) \n",
    "    level:0,1,2,3,4,5,6,7,8,9 (geographical level of buffer)\n",
    "    ngrams: 1,2,3,4,5\n",
    "    timeint: 3,6,12,24,48,96\"\"\"\n",
    "\n",
    "    inputpath = os.path.join('parametros_valores/1000ngrams/',country,'display_ngrams',f'{param}_vs_{vscale}')\n",
    "    if vscale == \"spatial\":\n",
    "        data = pd.read_csv( os.path.join(inputpath,f'{timeint}hrs'),index_col=0)\n",
    "    else:\n",
    "        data = pd.read_csv( os.path.join(inputpath,f'{distancias[level]/1000}Km'),index_col=0 )\n",
    "    \n",
    "    mu_sigma_ngramsvar(vscale,param,country,level,ngram,timeint,data,marker,ax)\n",
    "    \n",
    "    return data"
   ]
  },
  {
   "cell_type": "code",
   "execution_count": 7,
   "metadata": {},
   "outputs": [],
   "source": [
    "def regression_param(df,ax):\n",
    "    \"\"\"Plot OLS and return residuals\"\"\"\n",
    "    x=np.array(df.columns,dtype='float').reshape(-1,1)\n",
    "    y=df.iloc[ngram-1,:] #mu values at row ngram-1 corresponding to a certain scale\n",
    "\n",
    "    # Create linear regression object\n",
    "    reg = linear_model.LinearRegression()\n",
    "\n",
    "    # Train the model \n",
    "    reg.fit(np.log10(x),y)\n",
    "\n",
    "    ypred = reg.predict(np.log10(x))\n",
    "\n",
    "    ax.plot(x,ypred,label=f'$R^2={r2_score(y,ypred):.2f}$, slope ={reg.coef_[0]:.2f}')\n",
    "    residuals = y-ypred\n",
    "    return residuals"
   ]
  },
  {
   "cell_type": "code",
   "execution_count": 100,
   "metadata": {},
   "outputs": [
    {
     "data": {
      "image/png": "[encoded data removed]",
      "text/plain": [
       "<Figure size 1296x576 with 1 Axes>"
      ]
     },
     "metadata": {
      "needs_background": "light"
     },
     "output_type": "display_data"
    }
   ],
   "source": [
    "fig,ax = plt.subplots(figsize=(18,8))\n",
    "NGRAMS = np.arange(1,6,1)\n",
    "markers = np.arange(4,10,1)\n",
    "for ngram in NGRAMS:\n",
    "    df = plot_paramet('spatial','mu','United_Kingdom',ngram,96,ax,markers[ngram])\n",
    "    resid = regression_param(df,ax)\n",
    "    ax.set_xscale('log')\n",
    "    ax.legend()\n",
    "    sns.despine()"
   ]
  },
  {
   "cell_type": "code",
   "execution_count": 109,
   "metadata": {},
   "outputs": [],
   "source": [
    "def standardize(variable):\n",
    "    return (variable - np.mean(variable)) / np.std(variable)"
   ]
  },
  {
   "cell_type": "code",
   "execution_count": 111,
   "metadata": {},
   "outputs": [
    {
     "data": {
      "text/plain": [
       "<matplotlib.lines.Line2D at 0x7fefd8fd74d0>"
      ]
     },
     "execution_count": 111,
     "metadata": {},
     "output_type": "execute_result"
    },
    {
     "data": {
      "image/png": "[encoded data removed]",
      "text/plain": [
       "<Figure size 432x288 with 1 Axes>"
      ]
     },
     "metadata": {
      "needs_background": "light"
     },
     "output_type": "display_data"
    }
   ],
   "source": [
    "plt.scatter(np.array(df.columns),standardize(resid))\n",
    "plt.axhline(resid.mean())\n",
    "plt.axhline(3); plt.axhline(-3)"
   ]
  },
  {
   "cell_type": "code",
   "execution_count": 12,
   "metadata": {},
   "outputs": [],
   "source": [
    "import statsmodels.api as sm"
   ]
  },
  {
   "cell_type": "code",
   "execution_count": 78,
   "metadata": {},
   "outputs": [
    {
     "data": {
      "image/png": "[encoded data removed]",
      "text/plain": [
       "<Figure size 1296x576 with 1 Axes>"
      ]
     },
     "metadata": {
      "needs_background": "light"
     },
     "output_type": "display_data"
    }
   ],
   "source": [
    "fig1,ax1 = plt.subplots(figsize=(18,8))\n",
    "ngram=5\n",
    "df = plot_paramet('spatial','mu','United_Kingdom',ngram,3,ax1)\n",
    "ax1.set_xscale('log')"
   ]
  },
  {
   "cell_type": "code",
   "execution_count": 88,
   "metadata": {},
   "outputs": [],
   "source": [
    "y = df.iloc[4,:]\n",
    "X = np.log10(np.array(df.columns,float))\n",
    "X = sm.add_constant(X)"
   ]
  },
  {
   "cell_type": "code",
   "execution_count": 89,
   "metadata": {},
   "outputs": [],
   "source": [
    "linear_reg = sm.OLS(y,X)\n",
    "fittedmod = linear_reg.fit()"
   ]
  },
  {
   "cell_type": "code",
   "execution_count": 90,
   "metadata": {},
   "outputs": [
    {
     "data": {
      "text/html": [
       "<table class=\"simpletable\">\n",
       "<caption>OLS Regression Results</caption>\n",
       "<tr>\n",
       "  <th>Dep. Variable:</th>            <td>5</td>        <th>  R-squared:         </th> <td>   0.893</td>\n",
       "</tr>\n",
       "<tr>\n",
       "  <th>Model:</th>                   <td>OLS</td>       <th>  Adj. R-squared:    </th> <td>   0.879</td>\n",
       "</tr>\n",
       "<tr>\n",
       "  <th>Method:</th>             <td>Least Squares</td>  <th>  F-statistic:       </th> <td>   66.68</td>\n",
       "</tr>\n",
       "<tr>\n",
       "  <th>Date:</th>             <td>Fri, 29 May 2020</td> <th>  Prob (F-statistic):</th> <td>3.77e-05</td>\n",
       "</tr>\n",
       "<tr>\n",
       "  <th>Time:</th>                 <td>01:24:38</td>     <th>  Log-Likelihood:    </th> <td>  20.789</td>\n",
       "</tr>\n",
       "<tr>\n",
       "  <th>No. Observations:</th>      <td>    10</td>      <th>  AIC:               </th> <td>  -37.58</td>\n",
       "</tr>\n",
       "<tr>\n",
       "  <th>Df Residuals:</th>          <td>     8</td>      <th>  BIC:               </th> <td>  -36.97</td>\n",
       "</tr>\n",
       "<tr>\n",
       "  <th>Df Model:</th>              <td>     1</td>      <th>                     </th>     <td> </td>   \n",
       "</tr>\n",
       "<tr>\n",
       "  <th>Covariance Type:</th>      <td>nonrobust</td>    <th>                     </th>     <td> </td>   \n",
       "</tr>\n",
       "</table>\n",
       "<table class=\"simpletable\">\n",
       "<tr>\n",
       "    <td></td>       <th>coef</th>     <th>std err</th>      <th>t</th>      <th>P>|t|</th>  <th>[0.025</th>    <th>0.975]</th>  \n",
       "</tr>\n",
       "<tr>\n",
       "  <th>const</th> <td>    1.0581</td> <td>    0.061</td> <td>   17.420</td> <td> 0.000</td> <td>    0.918</td> <td>    1.198</td>\n",
       "</tr>\n",
       "<tr>\n",
       "  <th>x1</th>    <td>   -0.1010</td> <td>    0.012</td> <td>   -8.166</td> <td> 0.000</td> <td>   -0.130</td> <td>   -0.073</td>\n",
       "</tr>\n",
       "</table>\n",
       "<table class=\"simpletable\">\n",
       "<tr>\n",
       "  <th>Omnibus:</th>       <td> 0.978</td> <th>  Durbin-Watson:     </th> <td>   1.177</td>\n",
       "</tr>\n",
       "<tr>\n",
       "  <th>Prob(Omnibus):</th> <td> 0.613</td> <th>  Jarque-Bera (JB):  </th> <td>   0.625</td>\n",
       "</tr>\n",
       "<tr>\n",
       "  <th>Skew:</th>          <td> 0.023</td> <th>  Prob(JB):          </th> <td>   0.732</td>\n",
       "</tr>\n",
       "<tr>\n",
       "  <th>Kurtosis:</th>      <td> 1.776</td> <th>  Cond. No.          </th> <td>    29.0</td>\n",
       "</tr>\n",
       "</table><br/><br/>Warnings:<br/>[1] Standard Errors assume that the covariance matrix of the errors is correctly specified."
      ],
      "text/plain": [
       "<class 'statsmodels.iolib.summary.Summary'>\n",
       "\"\"\"\n",
       "                            OLS Regression Results                            \n",
       "==============================================================================\n",
       "Dep. Variable:                      5   R-squared:                       0.893\n",
       "Model:                            OLS   Adj. R-squared:                  0.879\n",
       "Method:                 Least Squares   F-statistic:                     66.68\n",
       "Date:                Fri, 29 May 2020   Prob (F-statistic):           3.77e-05\n",
       "Time:                        01:24:38   Log-Likelihood:                 20.789\n",
       "No. Observations:                  10   AIC:                            -37.58\n",
       "Df Residuals:                       8   BIC:                            -36.97\n",
       "Df Model:                           1                                         \n",
       "Covariance Type:            nonrobust                                         \n",
       "==============================================================================\n",
       "                 coef    std err          t      P>|t|      [0.025      0.975]\n",
       "------------------------------------------------------------------------------\n",
       "const          1.0581      0.061     17.420      0.000       0.918       1.198\n",
       "x1            -0.1010      0.012     -8.166      0.000      -0.130      -0.073\n",
       "==============================================================================\n",
       "Omnibus:                        0.978   Durbin-Watson:                   1.177\n",
       "Prob(Omnibus):                  0.613   Jarque-Bera (JB):                0.625\n",
       "Skew:                           0.023   Prob(JB):                        0.732\n",
       "Kurtosis:                       1.776   Cond. No.                         29.0\n",
       "==============================================================================\n",
       "\n",
       "Warnings:\n",
       "[1] Standard Errors assume that the covariance matrix of the errors is correctly specified.\n",
       "\"\"\""
      ]
     },
     "execution_count": 90,
     "metadata": {},
     "output_type": "execute_result"
    }
   ],
   "source": [
    "fittedmod.summary()"
   ]
  },
  {
   "cell_type": "code",
   "execution_count": null,
   "metadata": {},
   "outputs": [],
   "source": []
  }
 ],
 "metadata": {
  "kernelspec": {
   "display_name": "Python 3.7.5 64-bit ('toughenv': conda)",
   "language": "python",
   "name": "python37564bittoughenvconda10c22ec9b2ab438aab78bd3ff93ae9c0"
  },
  "language_info": {
   "codemirror_mode": {
    "name": "ipython",
    "version": 3
   },
   "file_extension": ".py",
   "mimetype": "text/x-python",
   "name": "python",
   "nbconvert_exporter": "python",
   "pygments_lexer": "ipython3",
   "version": "3.7.5"
  }
 },
 "nbformat": 4,
 "nbformat_minor": 2
}
