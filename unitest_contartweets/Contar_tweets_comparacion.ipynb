{
 "cells": [
  {
   "cell_type": "code",
   "execution_count": 2,
   "metadata": {
    "collapsed": true
   },
   "outputs": [],
   "source": [
    "\"\"\"\n",
    "Este scripts compara el numero de tweets que hay originalmente en los archivos zip compressed con los que se tienen \n",
    "en la carpeta de formateados. Deberian de coinsidir los resultados.\n",
    "\"\"\"\n",
    "\n",
    "import os\n",
    "import pandas as pd\n",
    "import csv\n",
    "\n",
    "\n",
    "path_formatted =  \"/storage/gershenson_g/gershenson/Ranks_15-10-18/Filtrados/Formatted_data\"\n",
    "path_other = \"/storage/gershenson_g/gershenson/Ranks_15-10-18/Filtrados\""
   ]
  },
  {
   "cell_type": "markdown",
   "metadata": {},
   "source": [
    "### Datos formateados"
   ]
  },
  {
   "cell_type": "code",
   "execution_count": 2,
   "metadata": {},
   "outputs": [
    {
     "name": "stdout",
     "output_type": "stream",
     "text": [
      "Mexico (3962961, 4)\n",
      "United_Kingdom (5623737, 4)\n",
      "Spain (3694508, 4)\n",
      "Canada (2027599, 4)\n"
     ]
    }
   ],
   "source": [
    "countries = [\"Mexico\", \"United_Kingdom\",\"Spain\",\"Canada\"]\n",
    "\n",
    "\n",
    "for country in countries:\n",
    "    path = os.path.join( path_formatted, country, \"3hourly_csv_files\",\"\")\n",
    "    files = sorted(os.listdir(path))\n",
    "\n",
    "    multi_dataframes = []\n",
    "\n",
    "    for file in files:\n",
    "        df = pd.read_csv(path+file,sep=\"\\t\",quoting=csv.QUOTE_NONE)\n",
    "        multi_dataframes.append(df)\n",
    "    \n",
    "    all_data = pd.concat(multi_dataframes)\n",
    "    all_data.reset_index(drop=True,inplace = True)\n",
    "    print(country,all_data.shape)"
   ]
  },
  {
   "cell_type": "code",
   "execution_count": 4,
   "metadata": {},
   "outputs": [
    {
     "name": "stdout",
     "output_type": "stream",
     "text": [
      "Argentina (4685654, 4)\n",
      "Ireland (349055, 4)\n",
      "Honduras (42777, 4)\n",
      "Cuba (22442, 4)\n",
      "New_Zealand (234531, 4)\n"
     ]
    },
    {
     "ename": "FileNotFoundError",
     "evalue": "[Errno 2] No such file or directory: '/storage/gershenson_g/gershenson/Ranks_15-10-18/Filtrados/Formatted_data/Singapure/3hourly_csv_files/'",
     "output_type": "error",
     "traceback": [
      "\u001b[0;31m---------------------------------------------------------------------------\u001b[0m",
      "\u001b[0;31mFileNotFoundError\u001b[0m                         Traceback (most recent call last)",
      "\u001b[0;32m<ipython-input-4-de6f6dd8a7d2>\u001b[0m in \u001b[0;36m<module>\u001b[0;34m()\u001b[0m\n\u001b[1;32m      3\u001b[0m \u001b[0;32mfor\u001b[0m \u001b[0mcountry\u001b[0m \u001b[0;32min\u001b[0m \u001b[0mcountries\u001b[0m\u001b[0;34m:\u001b[0m\u001b[0;34m\u001b[0m\u001b[0m\n\u001b[1;32m      4\u001b[0m     \u001b[0mpath\u001b[0m \u001b[0;34m=\u001b[0m \u001b[0mos\u001b[0m\u001b[0;34m.\u001b[0m\u001b[0mpath\u001b[0m\u001b[0;34m.\u001b[0m\u001b[0mjoin\u001b[0m\u001b[0;34m(\u001b[0m \u001b[0mpath_formatted\u001b[0m\u001b[0;34m,\u001b[0m \u001b[0mcountry\u001b[0m\u001b[0;34m,\u001b[0m \u001b[0;34m\"3hourly_csv_files\"\u001b[0m\u001b[0;34m,\u001b[0m\u001b[0;34m\"\"\u001b[0m\u001b[0;34m)\u001b[0m\u001b[0;34m\u001b[0m\u001b[0m\n\u001b[0;32m----> 5\u001b[0;31m     \u001b[0mfiles\u001b[0m \u001b[0;34m=\u001b[0m \u001b[0msorted\u001b[0m\u001b[0;34m(\u001b[0m\u001b[0mos\u001b[0m\u001b[0;34m.\u001b[0m\u001b[0mlistdir\u001b[0m\u001b[0;34m(\u001b[0m\u001b[0mpath\u001b[0m\u001b[0;34m)\u001b[0m\u001b[0;34m)\u001b[0m\u001b[0;34m\u001b[0m\u001b[0m\n\u001b[0m\u001b[1;32m      6\u001b[0m \u001b[0;34m\u001b[0m\u001b[0m\n\u001b[1;32m      7\u001b[0m     \u001b[0mmulti_dataframes\u001b[0m \u001b[0;34m=\u001b[0m \u001b[0;34m[\u001b[0m\u001b[0;34m]\u001b[0m\u001b[0;34m\u001b[0m\u001b[0m\n",
      "\u001b[0;31mFileNotFoundError\u001b[0m: [Errno 2] No such file or directory: '/storage/gershenson_g/gershenson/Ranks_15-10-18/Filtrados/Formatted_data/Singapure/3hourly_csv_files/'"
     ]
    }
   ],
   "source": [
    "# countries = [\"Argentina\", \"Ireland\",\"Honduras\",\"Cuba\",\"New_Zealand\",\"Singapure\",\"South_Africa\"]\n",
    "\n",
    "for country in countries:\n",
    "    path = os.path.join( path_formatted, country, \"3hourly_csv_files\",\"\")\n",
    "    files = sorted(os.listdir(path))\n",
    "\n",
    "    multi_dataframes = []\n",
    "\n",
    "    for file in files:\n",
    "        df = pd.read_csv(path+file,sep=\"\\t\",quoting=csv.QUOTE_NONE)\n",
    "        multi_dataframes.append(df)\n",
    "\n",
    "    all_data = pd.concat(multi_dataframes)\n",
    "    all_data.reset_index(drop=True,inplace = True)\n",
    "    print(country,all_data.shape)"
   ]
  },
  {
   "cell_type": "code",
   "execution_count": 5,
   "metadata": {},
   "outputs": [
    {
     "name": "stdout",
     "output_type": "stream",
     "text": [
      "Singapore (865223, 4)\n",
      "South_Africa (1367236, 4)\n"
     ]
    }
   ],
   "source": [
    "countries = [\"Singapore\",\"South_Africa\"]\n",
    "\n",
    "for country in countries:\n",
    "    path = os.path.join( path_formatted, country, \"3hourly_csv_files\",\"\")\n",
    "    files = sorted(os.listdir(path))\n",
    "\n",
    "    multi_dataframes = []\n",
    "\n",
    "    for file in files:\n",
    "        df = pd.read_csv(path+file,sep=\"\\t\",quoting=csv.QUOTE_NONE)\n",
    "        multi_dataframes.append(df)\n",
    "\n",
    "    all_data = pd.concat(multi_dataframes)\n",
    "    all_data.reset_index(drop=True,inplace = True)\n",
    "    print(country,all_data.shape)"
   ]
  },
  {
   "cell_type": "markdown",
   "metadata": {},
   "source": [
    "### Datos comprimidos"
   ]
  },
  {
   "cell_type": "code",
   "execution_count": 3,
   "metadata": {},
   "outputs": [
    {
     "name": "stdout",
     "output_type": "stream",
     "text": [
      "Mexico 3962961\n",
      "United_Kingdom 5623737\n",
      "Spain 3694508\n",
      "Canada 2027599\n"
     ]
    }
   ],
   "source": [
    "\"\"\"\n",
    "Input: gzip compressed json files\n",
    "Output: print country and number of tweets\n",
    "\"\"\"\n",
    "\n",
    "\n",
    "import json\n",
    "import gzip\n",
    "import os\n",
    "\n",
    "\n",
    "countries = [\"Mexico\", \"United_Kingdom\",\"Spain\",\"Canada\"]\n",
    "levels = [0]\n",
    "\n",
    "for country in countries:\n",
    "    path = os.path.join( path_other, country,\"\")\n",
    "    files = sorted(os.listdir(path))\n",
    "    numbertweets= 0\n",
    "\n",
    "    for file in files:\n",
    "        with gzip.open(os.path.join(path,file),'r') as f:\n",
    "            tweets = json.load(f)\n",
    "            numbertweets = numbertweets + len(tweets)\n",
    "\n",
    "    print(country,numbertweets)"
   ]
  },
  {
   "cell_type": "code",
   "execution_count": null,
   "metadata": {
    "collapsed": true
   },
   "outputs": [],
   "source": []
  }
 ],
 "metadata": {
  "kernelspec": {
   "display_name": "Python 3",
   "language": "python",
   "name": "python3"
  },
  "language_info": {
   "codemirror_mode": {
    "name": "ipython",
    "version": 3
   },
   "file_extension": ".py",
   "mimetype": "text/x-python",
   "name": "python",
   "nbconvert_exporter": "python",
   "pygments_lexer": "ipython3",
   "version": "3.6.3"
  }
 },
 "nbformat": 4,
 "nbformat_minor": 2
}
